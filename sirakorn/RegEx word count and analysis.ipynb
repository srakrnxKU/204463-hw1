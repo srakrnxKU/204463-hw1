{
 "cells": [
  {
   "cell_type": "markdown",
   "metadata": {},
   "source": [
    "# Word count and analysis with RegEx\n",
    "\n",
    "We're going to firstly import some of the libraries"
   ]
  },
  {
   "cell_type": "code",
   "execution_count": 1,
   "metadata": {},
   "outputs": [],
   "source": [
    "import re\n",
    "import numpy\n",
    "import matplotlib.pyplot as plt\n",
    "import pandas as pd\n",
    "from collections import Counter"
   ]
  },
  {
   "cell_type": "markdown",
   "metadata": {},
   "source": [
    "Open the raw file and read it, making sure it's a normal string."
   ]
  },
  {
   "cell_type": "code",
   "execution_count": 2,
   "metadata": {},
   "outputs": [],
   "source": [
    "with open(\"corpus/simplewiki.txt\") as f:\n",
    "    raw_corpus = f.read()"
   ]
  },
  {
   "cell_type": "code",
   "execution_count": 3,
   "metadata": {},
   "outputs": [
    {
     "data": {
      "text/plain": [
       "str"
      ]
     },
     "execution_count": 3,
     "metadata": {},
     "output_type": "execute_result"
    }
   ],
   "source": [
    "type(raw_corpus)"
   ]
  },
  {
   "cell_type": "markdown",
   "metadata": {},
   "source": [
    "We then use [regular expression](https://developer.mozilla.org/th/docs/Web/JavaScript/Guide/Regular_Expressions) to match and segment the words.\n",
    "\n",
    "![regex](https://imgs.xkcd.com/comics/regular_expressions.png)\n",
    "\n",
    "*(Courtesy: [Regular Expression, xkcd](https://imgs.xkcd.com/comics/regular_expressions.png))*\n",
    "\n",
    "We'll use some simple regular expression `[a-zA-Z]+[\\-[a-zA-Z]+]*` which means to find words without numbers, and consider the hyphenated words (like 'all-in-one') to be one single word."
   ]
  },
  {
   "cell_type": "code",
   "execution_count": 4,
   "metadata": {},
   "outputs": [],
   "source": [
    "segmented_corpus = re.findall(\"[a-zA-Z]+[\\-[a-zA-Z]+]*\", raw_corpus)"
   ]
  },
  {
   "cell_type": "markdown",
   "metadata": {},
   "source": [
    "Convert them to lower letters"
   ]
  },
  {
   "cell_type": "code",
   "execution_count": 5,
   "metadata": {},
   "outputs": [],
   "source": [
    "segmented_corpus = [i.lower() for i in segmented_corpus]"
   ]
  },
  {
   "cell_type": "markdown",
   "metadata": {},
   "source": [
    "Count their frequency, and transform them to Pandas DataFrame"
   ]
  },
  {
   "cell_type": "code",
   "execution_count": 6,
   "metadata": {},
   "outputs": [],
   "source": [
    "word_dict = dict(Counter(segmented_corpus))"
   ]
  },
  {
   "cell_type": "code",
   "execution_count": 7,
   "metadata": {},
   "outputs": [],
   "source": [
    "words = list(word_dict.keys())\n",
    "counts = [word_dict[i] for i in words]"
   ]
  },
  {
   "cell_type": "code",
   "execution_count": 8,
   "metadata": {},
   "outputs": [],
   "source": [
    "word_count = pd.DataFrame({\"word\": words, \"count\": counts})"
   ]
  },
  {
   "cell_type": "markdown",
   "metadata": {},
   "source": [
    "The full word count is now in the `word_count` variable. We hereby trim some of its very first rows:"
   ]
  },
  {
   "cell_type": "code",
   "execution_count": 9,
   "metadata": {},
   "outputs": [
    {
     "data": {
      "text/html": [
       "<div>\n",
       "<style scoped>\n",
       "    .dataframe tbody tr th:only-of-type {\n",
       "        vertical-align: middle;\n",
       "    }\n",
       "\n",
       "    .dataframe tbody tr th {\n",
       "        vertical-align: top;\n",
       "    }\n",
       "\n",
       "    .dataframe thead th {\n",
       "        text-align: right;\n",
       "    }\n",
       "</style>\n",
       "<table border=\"1\" class=\"dataframe\">\n",
       "  <thead>\n",
       "    <tr style=\"text-align: right;\">\n",
       "      <th></th>\n",
       "      <th>word</th>\n",
       "      <th>count</th>\n",
       "    </tr>\n",
       "  </thead>\n",
       "  <tbody>\n",
       "    <tr>\n",
       "      <th>0</th>\n",
       "      <td>the</td>\n",
       "      <td>262494</td>\n",
       "    </tr>\n",
       "    <tr>\n",
       "      <th>1</th>\n",
       "      <td>pelvis</td>\n",
       "      <td>42</td>\n",
       "    </tr>\n",
       "    <tr>\n",
       "      <th>2</th>\n",
       "      <td>plural</td>\n",
       "      <td>121</td>\n",
       "    </tr>\n",
       "    <tr>\n",
       "      <th>3</th>\n",
       "      <td>pelves</td>\n",
       "      <td>2</td>\n",
       "    </tr>\n",
       "    <tr>\n",
       "      <th>4</th>\n",
       "      <td>is</td>\n",
       "      <td>67683</td>\n",
       "    </tr>\n",
       "    <tr>\n",
       "      <th>5</th>\n",
       "      <td>part</td>\n",
       "      <td>3733</td>\n",
       "    </tr>\n",
       "    <tr>\n",
       "      <th>6</th>\n",
       "      <td>of</td>\n",
       "      <td>137781</td>\n",
       "    </tr>\n",
       "    <tr>\n",
       "      <th>7</th>\n",
       "      <td>vertebrate</td>\n",
       "      <td>53</td>\n",
       "    </tr>\n",
       "    <tr>\n",
       "      <th>8</th>\n",
       "      <td>body</td>\n",
       "      <td>1808</td>\n",
       "    </tr>\n",
       "    <tr>\n",
       "      <th>9</th>\n",
       "      <td>to</td>\n",
       "      <td>81043</td>\n",
       "    </tr>\n",
       "  </tbody>\n",
       "</table>\n",
       "</div>"
      ],
      "text/plain": [
       "         word   count\n",
       "0         the  262494\n",
       "1      pelvis      42\n",
       "2      plural     121\n",
       "3      pelves       2\n",
       "4          is   67683\n",
       "5        part    3733\n",
       "6          of  137781\n",
       "7  vertebrate      53\n",
       "8        body    1808\n",
       "9          to   81043"
      ]
     },
     "execution_count": 9,
     "metadata": {},
     "output_type": "execute_result"
    }
   ],
   "source": [
    "word_count.head(10)"
   ]
  },
  {
   "cell_type": "markdown",
   "metadata": {},
   "source": [
    "Finally we count the frequency of occurrences..."
   ]
  },
  {
   "cell_type": "code",
   "execution_count": 10,
   "metadata": {},
   "outputs": [],
   "source": [
    "frequencies = word_count[\"count\"].value_counts().sort_index()"
   ]
  },
  {
   "cell_type": "code",
   "execution_count": 11,
   "metadata": {},
   "outputs": [
    {
     "data": {
      "text/plain": [
       "1         83551\n",
       "2         22269\n",
       "3         10636\n",
       "4          6586\n",
       "5          4379\n",
       "6          3346\n",
       "7          2629\n",
       "8          2066\n",
       "9          1804\n",
       "10         1439\n",
       "11         1235\n",
       "12         1122\n",
       "13          945\n",
       "14          873\n",
       "15          794\n",
       "16          674\n",
       "17          648\n",
       "18          580\n",
       "19          554\n",
       "20          518\n",
       "21          463\n",
       "22          426\n",
       "23          409\n",
       "24          320\n",
       "25          341\n",
       "26          342\n",
       "27          307\n",
       "28          285\n",
       "29          242\n",
       "30          248\n",
       "          ...  \n",
       "13045         1\n",
       "13370         1\n",
       "13590         1\n",
       "15388         1\n",
       "16490         1\n",
       "16511         1\n",
       "16536         1\n",
       "17083         1\n",
       "17888         1\n",
       "20256         1\n",
       "21738         1\n",
       "22015         1\n",
       "22959         1\n",
       "23517         1\n",
       "24779         1\n",
       "25547         1\n",
       "26299         1\n",
       "26525         1\n",
       "27601         1\n",
       "30201         1\n",
       "31777         1\n",
       "34447         1\n",
       "38284         1\n",
       "41779         1\n",
       "67683         1\n",
       "81043         1\n",
       "101300        1\n",
       "103348        1\n",
       "137781        1\n",
       "262494        1\n",
       "Name: count, Length: 1203, dtype: int64"
      ]
     },
     "execution_count": 11,
     "metadata": {},
     "output_type": "execute_result"
    }
   ],
   "source": [
    "frequencies"
   ]
  },
  {
   "cell_type": "markdown",
   "metadata": {},
   "source": [
    "...and plot them (although unnicely)"
   ]
  },
  {
   "cell_type": "code",
   "execution_count": 12,
   "metadata": {},
   "outputs": [
    {
     "data": {
      "image/png": "[encoded data removed]",
      "text/plain": [
       "<Figure size 432x288 with 1 Axes>"
      ]
     },
     "metadata": {
      "needs_background": "light"
     },
     "output_type": "display_data"
    }
   ],
   "source": [
    "plt.plot(frequencies)\n",
    "plt.xlabel(\"Word counts\")\n",
    "plt.ylabel(\"Frequency\")\n",
    "plt.show()"
   ]
  }
 ],
 "metadata": {
  "kernelspec": {
   "display_name": "Python 3",
   "language": "python",
   "name": "python3"
  },
  "language_info": {
   "codemirror_mode": {
    "name": "ipython",
    "version": 3
   },
   "file_extension": ".py",
   "mimetype": "text/x-python",
   "name": "python",
   "nbconvert_exporter": "python",
   "pygments_lexer": "ipython3",
   "version": "3.6.8"
  }
 },
 "nbformat": 4,
 "nbformat_minor": 2
}
